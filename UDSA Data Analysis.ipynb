{
 "cells": [
  {
   "cell_type": "code",
   "execution_count": 2,
   "metadata": {},
   "outputs": [],
   "source": [
    "import pandas as pd"
   ]
  },
  {
   "cell_type": "code",
   "execution_count": 8,
   "metadata": {},
   "outputs": [],
   "source": [
    "data = pd.read_csv(\"./data/SearchResults.csv\")"
   ]
  },
  {
   "cell_type": "code",
   "execution_count": 9,
   "metadata": {},
   "outputs": [
    {
     "data": {
      "text/html": [
       "<div>\n",
       "<style scoped>\n",
       "    .dataframe tbody tr th:only-of-type {\n",
       "        vertical-align: middle;\n",
       "    }\n",
       "\n",
       "    .dataframe tbody tr th {\n",
       "        vertical-align: top;\n",
       "    }\n",
       "\n",
       "    .dataframe thead th {\n",
       "        text-align: right;\n",
       "    }\n",
       "</style>\n",
       "<table border=\"1\" class=\"dataframe\">\n",
       "  <thead>\n",
       "    <tr style=\"text-align: right;\">\n",
       "      <th></th>\n",
       "      <th>Symbol</th>\n",
       "      <th>Scientific Name</th>\n",
       "      <th>Common Name</th>\n",
       "    </tr>\n",
       "  </thead>\n",
       "  <tbody>\n",
       "    <tr>\n",
       "      <th>0</th>\n",
       "      <td>BAILE</td>\n",
       "      <td>Baileya Harv. &amp; A. Gray ex A. Gray</td>\n",
       "      <td>desert marigold</td>\n",
       "    </tr>\n",
       "    <tr>\n",
       "      <th>1</th>\n",
       "      <td>BAMU</td>\n",
       "      <td>Baileya multiradiata Harv. &amp; A. Gray ex A. Gray</td>\n",
       "      <td>desert marigold</td>\n",
       "    </tr>\n",
       "    <tr>\n",
       "      <th>2</th>\n",
       "      <td>BAPL3</td>\n",
       "      <td>Baileya pleniradiata Harv. &amp; A. Gray ex A. Gray</td>\n",
       "      <td>woolly desert marigold</td>\n",
       "    </tr>\n",
       "    <tr>\n",
       "      <th>3</th>\n",
       "      <td>BIBE2</td>\n",
       "      <td>Bidens beckii Torr. ex Spreng.</td>\n",
       "      <td>Beck's water-marigold</td>\n",
       "    </tr>\n",
       "    <tr>\n",
       "      <th>4</th>\n",
       "      <td>CALEN</td>\n",
       "      <td>Calendula L.</td>\n",
       "      <td>marigold</td>\n",
       "    </tr>\n",
       "  </tbody>\n",
       "</table>\n",
       "</div>"
      ],
      "text/plain": [
       "  Symbol                                  Scientific Name  \\\n",
       "0  BAILE               Baileya Harv. & A. Gray ex A. Gray   \n",
       "1   BAMU  Baileya multiradiata Harv. & A. Gray ex A. Gray   \n",
       "2  BAPL3  Baileya pleniradiata Harv. & A. Gray ex A. Gray   \n",
       "3  BIBE2                   Bidens beckii Torr. ex Spreng.   \n",
       "4  CALEN                                     Calendula L.   \n",
       "\n",
       "              Common Name  \n",
       "0         desert marigold  \n",
       "1         desert marigold  \n",
       "2  woolly desert marigold  \n",
       "3   Beck's water-marigold  \n",
       "4                marigold  "
      ]
     },
     "execution_count": 9,
     "metadata": {},
     "output_type": "execute_result"
    }
   ],
   "source": [
    "data.head()"
   ]
  },
  {
   "cell_type": "code",
   "execution_count": 10,
   "metadata": {},
   "outputs": [
    {
     "data": {
      "text/plain": [
       "(32, 3)"
      ]
     },
     "execution_count": 10,
     "metadata": {},
     "output_type": "execute_result"
    }
   ],
   "source": [
    "data.shape"
   ]
  },
  {
   "cell_type": "code",
   "execution_count": 17,
   "metadata": {},
   "outputs": [
    {
     "data": {
      "text/plain": [
       "0      BAILE\n",
       "1       BAMU\n",
       "2      BAPL3\n",
       "3      BIBE2\n",
       "4      CALEN\n",
       "5       CAAR\n",
       "6       CAOF\n",
       "7      CALTH\n",
       "8      CALE4\n",
       "9     CALEH2\n",
       "10    CALEL7\n",
       "11    CALEL8\n",
       "12    CALES4\n",
       "13      CANA\n",
       "14     CAPA5\n",
       "15    CAPAP6\n",
       "16    CAPAR3\n",
       "17    CATR18\n",
       "18    DIMOR3\n",
       "19     DISI4\n",
       "20      DYPA\n",
       "21     NATA3\n",
       "22     PIMA4\n",
       "23     TAGET\n",
       "24      TAER\n",
       "25      TALE\n",
       "26     TALU3\n",
       "27      TAMI\n",
       "28     TAMI2\n",
       "29      TAPA\n",
       "30     TAPU5\n",
       "31     TIDI2\n",
       "Name: Symbol, dtype: object"
      ]
     },
     "execution_count": 17,
     "metadata": {},
     "output_type": "execute_result"
    }
   ],
   "source": [
    "data['Symbol']"
   ]
  },
  {
   "cell_type": "code",
   "execution_count": null,
   "metadata": {},
   "outputs": [],
   "source": []
  }
 ],
 "metadata": {
  "kernelspec": {
   "display_name": "Python 3",
   "language": "python",
   "name": "python3"
  },
  "language_info": {
   "codemirror_mode": {
    "name": "ipython",
    "version": 3
   },
   "file_extension": ".py",
   "mimetype": "text/x-python",
   "name": "python",
   "nbconvert_exporter": "python",
   "pygments_lexer": "ipython3",
   "version": "3.10.9"
  },
  "orig_nbformat": 4
 },
 "nbformat": 4,
 "nbformat_minor": 2
}
