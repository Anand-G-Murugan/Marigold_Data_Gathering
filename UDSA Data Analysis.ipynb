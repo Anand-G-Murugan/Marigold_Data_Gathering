{
 "cells": [
  {
   "cell_type": "code",
   "execution_count": 1,
   "metadata": {},
   "outputs": [],
   "source": [
    "import pandas as pd"
   ]
  },
  {
   "cell_type": "code",
   "execution_count": 14,
   "metadata": {},
   "outputs": [],
   "source": [
    "data = pd.read_csv(\"./data/SearchResults.csv\")\n",
    "data.columns = data.iloc[0]"
   ]
  },
  {
   "cell_type": "code",
   "execution_count": 16,
   "metadata": {},
   "outputs": [
    {
     "data": {
      "text/html": [
       "<div>\n",
       "<style scoped>\n",
       "    .dataframe tbody tr th:only-of-type {\n",
       "        vertical-align: middle;\n",
       "    }\n",
       "\n",
       "    .dataframe tbody tr th {\n",
       "        vertical-align: top;\n",
       "    }\n",
       "\n",
       "    .dataframe thead th {\n",
       "        text-align: right;\n",
       "    }\n",
       "</style>\n",
       "<table border=\"1\" class=\"dataframe\">\n",
       "  <thead>\n",
       "    <tr style=\"text-align: right;\">\n",
       "      <th></th>\n",
       "      <th>(Symbol, Scientific Name)</th>\n",
       "      <th>Common Name</th>\n",
       "    </tr>\n",
       "  </thead>\n",
       "  <tbody>\n",
       "    <tr>\n",
       "      <th>Symbol</th>\n",
       "      <th>Scientific Name</th>\n",
       "      <td>Common Name</td>\n",
       "    </tr>\n",
       "    <tr>\n",
       "      <th>BAILE</th>\n",
       "      <th>Baileya Harv. &amp; A. Gray ex A. Gray</th>\n",
       "      <td>desert marigold</td>\n",
       "    </tr>\n",
       "    <tr>\n",
       "      <th>BAMU</th>\n",
       "      <th>Baileya multiradiata Harv. &amp; A. Gray ex A. Gray</th>\n",
       "      <td>desert marigold</td>\n",
       "    </tr>\n",
       "    <tr>\n",
       "      <th>BAPL3</th>\n",
       "      <th>Baileya pleniradiata Harv. &amp; A. Gray ex A. Gray</th>\n",
       "      <td>woolly desert marigold</td>\n",
       "    </tr>\n",
       "    <tr>\n",
       "      <th>BIBE2</th>\n",
       "      <th>Bidens beckii Torr. ex Spreng.</th>\n",
       "      <td>Beck's water-marigold</td>\n",
       "    </tr>\n",
       "  </tbody>\n",
       "</table>\n",
       "</div>"
      ],
      "text/plain": [
       "('Symbol', 'Scientific Name')                                      Common Name\n",
       "Symbol Scientific Name                                             Common Name\n",
       "BAILE  Baileya Harv. & A. Gray ex A. Gray                      desert marigold\n",
       "BAMU   Baileya multiradiata Harv. & A. Gray ex A. Gray         desert marigold\n",
       "BAPL3  Baileya pleniradiata Harv. & A. Gray ex A. Gray  woolly desert marigold\n",
       "BIBE2  Bidens beckii Torr. ex Spreng.                    Beck's water-marigold"
      ]
     },
     "execution_count": 16,
     "metadata": {},
     "output_type": "execute_result"
    }
   ],
   "source": [
    "data.head()"
   ]
  },
  {
   "cell_type": "code",
   "execution_count": 17,
   "metadata": {},
   "outputs": [
    {
     "data": {
      "text/plain": [
       "(33, 1)"
      ]
     },
     "execution_count": 17,
     "metadata": {},
     "output_type": "execute_result"
    }
   ],
   "source": [
    "data.shape"
   ]
  },
  {
   "cell_type": "code",
   "execution_count": null,
   "metadata": {},
   "outputs": [],
   "source": []
  }
 ],
 "metadata": {
  "kernelspec": {
   "display_name": "Python 3",
   "language": "python",
   "name": "python3"
  },
  "language_info": {
   "codemirror_mode": {
    "name": "ipython",
    "version": 3
   },
   "file_extension": ".py",
   "mimetype": "text/x-python",
   "name": "python",
   "nbconvert_exporter": "python",
   "pygments_lexer": "ipython3",
   "version": "3.10.9"
  },
  "orig_nbformat": 4
 },
 "nbformat": 4,
 "nbformat_minor": 2
}
